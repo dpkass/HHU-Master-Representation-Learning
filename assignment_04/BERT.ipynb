{
 "cells": [
  {
   "cell_type": "markdown",
   "metadata": {},
   "source": [
    "HHU Deep Representation Learning, Prof. Dr. Markus Kollmann\n",
    "\n",
    "Tutoring is done by Nikolas Adaloglou and Felix Michels.\n",
    "\n",
    "# Assignment 04 - Language Representations using BERT\n",
    "\n",
    "---\n",
    "\n",
    "Submit the solved notebook (not a zip) with your full name plus assingment number for the filename as an indicator, e.g `max_mustermann_a1.ipynb` for assignment 1. \n",
    "This is a **two week** exercise.\n",
    "If we feel like you have genuinely tried to solve the exercise, you will receive **2** points for this assignment, regardless of the quality of your solution.\n",
    "\n",
    "## <center> DUE FRIDAY 23.05.2024 2:30 pm </center>\n",
    "\n",
    "Drop-off link: [https://uni-duesseldorf.sciebo.de/s/mPU3IeJzuUygATb](https://uni-duesseldorf.sciebo.de/s/mPU3IeJzuUygATb)\n",
    "\n",
    "---\n",
    "\n",
    "## Contents\n",
    "\n",
    "1. Preparation and imports\n",
    "2. Data Preparation\n",
    "3. The pair dataset\n",
    "4. Masking\n",
    "5. The model\n",
    "6. Training\n",
    "7. Evaluating the model\n",
    "8. Conclusion and bonus read"
   ]
  },
  {
   "cell_type": "markdown",
   "metadata": {},
   "source": [
    "# Overview\n",
    "\n",
    "In this exercie you will train a small [BERT](https://arxiv.org/abs/1810.04805) model on the IMDB dataset (https://huggingface.co/datasets/imdb).\n",
    "You will then use the model to classify the sentiment of movie reviews and the sentiment of sentences from the Stanford Sentiment Treebank (SST2, https://huggingface.co/datasets/sst2)."
   ]
  },
  {
   "cell_type": "markdown",
   "metadata": {},
   "source": [
    "# Part I. Preparation and imports"
   ]
  },
  {
   "cell_type": "code",
   "metadata": {
    "ExecuteTime": {
     "end_time": "2025-05-18T18:42:08.922415Z",
     "start_time": "2025-05-18T18:42:08.684226Z"
    }
   },
   "source": [
    "!wget -nc https://raw.githubusercontent.com/HHU-MMBS/RepresentationLearning_PUBLIC_2024/main/exercises/week03/utils.py"
   ],
   "outputs": [
    {
     "name": "stdout",
     "output_type": "stream",
     "text": [
      "File ‘utils.py’ already there; not retrieving.\r\n",
      "\r\n"
     ]
    }
   ],
   "execution_count": 1
  },
  {
   "cell_type": "code",
   "metadata": {
    "ExecuteTime": {
     "end_time": "2025-05-18T18:42:09.428776Z",
     "start_time": "2025-05-18T18:42:09.275808Z"
    }
   },
   "source": [
    "!wget -nc https://raw.githubusercontent.com/HHU-MMBS/RepresentationLearning_PUBLIC_2024/main/exercises/week03/requirements.txt"
   ],
   "outputs": [
    {
     "name": "stdout",
     "output_type": "stream",
     "text": [
      "File ‘requirements.txt’ already there; not retrieving.\r\n",
      "\r\n"
     ]
    }
   ],
   "execution_count": 2
  },
  {
   "cell_type": "code",
   "metadata": {
    "ExecuteTime": {
     "end_time": "2025-05-18T18:42:09.450448Z",
     "start_time": "2025-05-18T18:42:09.445580Z"
    }
   },
   "source": [
    "# You may need to install some additional packages\n",
    "# !pip install -r requirements.txt"
   ],
   "outputs": [],
   "execution_count": 3
  },
  {
   "cell_type": "code",
   "metadata": {
    "ExecuteTime": {
     "end_time": "2025-05-18T18:56:26.235336Z",
     "start_time": "2025-05-18T18:56:26.207392Z"
    }
   },
   "source": [
    "# basic imports\n",
    "import torch\n",
    "import numpy as np\n",
    "from torch import nn\n",
    "from torch.utils.data import DataLoader\n",
    "from torch.nn import functional as F\n",
    "import matplotlib.pyplot as plt\n",
    "from tqdm.auto import tqdm\n",
    "\n",
    "# local imports\n",
    "from utils import load_imdb_dataset, load_sst2_dataset\n",
    "\n",
    "device = torch.device('cuda' if torch.cuda.is_available() else 'mps' if torch.mps.is_available() else 'cpu')"
   ],
   "outputs": [],
   "execution_count": 33
  },
  {
   "cell_type": "markdown",
   "metadata": {},
   "source": [
    "# Part II. Data Preparation"
   ]
  },
  {
   "cell_type": "markdown",
   "metadata": {},
   "source": [
    "## The Tokenizer\n",
    "To use text in a neural network, we need to convert it to numbers. This is done by a tokenizer. The tokenizer splits the text into tokens and maps each token to an integer. The tokenizer also adds special tokens to the beginning and end of the sentence. These special tokens are used to indicate the beginning and end of the sentence and to separate two sentences.\n",
    "You won't need to use a tokenizer directly, but you should go through this section to get a better understanding of how it works.\n",
    "We'll use a variant of WordPiece tokenization, which is used by BERT. The tokenizer is implemented in the `transformers` library. For more information, see [here](https://huggingface.co/course/chapter6/6?fw=pt)."
   ]
  },
  {
   "cell_type": "code",
   "metadata": {
    "ExecuteTime": {
     "end_time": "2025-05-18T18:42:18.548770Z",
     "start_time": "2025-05-18T18:42:18.543260Z"
    }
   },
   "source": [
    "from utils import TOKENIZER"
   ],
   "outputs": [],
   "execution_count": 5
  },
  {
   "cell_type": "markdown",
   "metadata": {},
   "source": [
    "Common words are just tokens themselves"
   ]
  },
  {
   "cell_type": "code",
   "metadata": {
    "ExecuteTime": {
     "end_time": "2025-05-18T18:42:18.640514Z",
     "start_time": "2025-05-18T18:42:18.618856Z"
    }
   },
   "source": [
    "TOKENIZER.tokenize('These are just common words')"
   ],
   "outputs": [
    {
     "data": {
      "text/plain": [
       "['these', 'are', 'just', 'common', 'words']"
      ]
     },
     "execution_count": 6,
     "metadata": {},
     "output_type": "execute_result"
    }
   ],
   "execution_count": 6
  },
  {
   "cell_type": "markdown",
   "metadata": {},
   "source": [
    "Less common words are split into subwords. This way we can represent rare words with a few tokens and still have a fixed vocabulary size.\n",
    "We also don't have to worry about encountering new words that are not in the vocabulary."
   ]
  },
  {
   "cell_type": "code",
   "metadata": {
    "ExecuteTime": {
     "end_time": "2025-05-18T18:42:18.813484Z",
     "start_time": "2025-05-18T18:42:18.800617Z"
    }
   },
   "source": [
    "TOKENIZER.tokenize('Gerbils are crepuscular')"
   ],
   "outputs": [
    {
     "data": {
      "text/plain": [
       "['ge', '##rb', '##ils', 'are', 'cr', '##ep', '##us', '##cular']"
      ]
     },
     "execution_count": 7,
     "metadata": {},
     "output_type": "execute_result"
    }
   ],
   "execution_count": 7
  },
  {
   "cell_type": "markdown",
   "metadata": {},
   "source": [
    "### Special tokens and turn to ids\n",
    "Special tokens are indicated by brackets `[]`. These are the relevant special tokens:"
   ]
  },
  {
   "cell_type": "markdown",
   "metadata": {},
   "source": [
    "| Token  | Purpose                                              |\n",
    "|--------|------------------------------------------------------|\n",
    "| [CLS]  | The first token is always classification             |\n",
    "| [SEP]  | At the end of each sentence                          |\n",
    "| [PAD]  | Use to pad sentences to the same length              |\n",
    "| [MASK] | Used to create a mask by replacing the original word |"
   ]
  },
  {
   "cell_type": "markdown",
   "metadata": {},
   "source": [
    "When using the tokenizer on a list of sentence pairs, it will automatically add the special tokens and separate the sentences as well as pad the sentences to the same length."
   ]
  },
  {
   "cell_type": "code",
   "metadata": {
    "ExecuteTime": {
     "end_time": "2025-05-18T18:42:18.963047Z",
     "start_time": "2025-05-18T18:42:18.952136Z"
    }
   },
   "source": [
    "sentence_pairs = [\n",
    "    ['hello world', 'what a nice day'],\n",
    "    ['this is a slightly longer sentence', 'it really is'],\n",
    "    ['And this is a third sentence', 'just for good measure']\n",
    "]\n",
    "\n",
    "first_sentences, second_sentences = zip(*sentence_pairs)\n",
    "\n",
    "out = TOKENIZER(first_sentences, second_sentences, padding=True, return_tensors='pt', truncation=True, return_special_tokens_mask=True,\n",
    "                return_attention_mask=False)\n",
    "input_ids = out['input_ids']\n",
    "segment_ids = out['token_type_ids']\n",
    "special_tokens_mask = out['special_tokens_mask']"
   ],
   "outputs": [],
   "execution_count": 8
  },
  {
   "cell_type": "code",
   "metadata": {
    "ExecuteTime": {
     "end_time": "2025-05-18T18:42:19.034021Z",
     "start_time": "2025-05-18T18:42:19.020516Z"
    }
   },
   "source": [
    "# The input ids are just numbers, one number for each token.\n",
    "input_ids"
   ],
   "outputs": [
    {
     "data": {
      "text/plain": [
       "tensor([[ 101, 7592, 2088,  102, 2054, 1037, 3835, 2154,  102,    0,    0,    0,\n",
       "            0],\n",
       "        [ 101, 2023, 2003, 1037, 3621, 2936, 6251,  102, 2009, 2428, 2003,  102,\n",
       "            0],\n",
       "        [ 101, 1998, 2023, 2003, 1037, 2353, 6251,  102, 2074, 2005, 2204, 5468,\n",
       "          102]])"
      ]
     },
     "execution_count": 9,
     "metadata": {},
     "output_type": "execute_result"
    }
   ],
   "execution_count": 9
  },
  {
   "cell_type": "code",
   "metadata": {
    "ExecuteTime": {
     "end_time": "2025-05-18T18:42:19.284060Z",
     "start_time": "2025-05-18T18:42:19.278710Z"
    }
   },
   "source": [
    "print(f\"The tokenizer assigns ids between 0 and {TOKENIZER.vocab_size}\")"
   ],
   "outputs": [
    {
     "name": "stdout",
     "output_type": "stream",
     "text": [
      "The tokenizer assigns ids between 0 and 30522\n"
     ]
    }
   ],
   "execution_count": 10
  },
  {
   "cell_type": "code",
   "metadata": {
    "ExecuteTime": {
     "end_time": "2025-05-18T18:42:19.591567Z",
     "start_time": "2025-05-18T18:42:19.581281Z"
    }
   },
   "source": [
    "# We can decode the input ids to get the original text together with the special tokens\n",
    "TOKENIZER.decode(input_ids[0])"
   ],
   "outputs": [
    {
     "data": {
      "text/plain": [
       "'[CLS] hello world [SEP] what a nice day [SEP] [PAD] [PAD] [PAD] [PAD]'"
      ]
     },
     "execution_count": 11,
     "metadata": {},
     "output_type": "execute_result"
    }
   ],
   "execution_count": 11
  },
  {
   "cell_type": "code",
   "metadata": {
    "ExecuteTime": {
     "end_time": "2025-05-18T18:42:19.833161Z",
     "start_time": "2025-05-18T18:42:19.812272Z"
    }
   },
   "source": [
    "# The segment ids indicate which sentence each token belongs to. 0 is the first sentence, 1 is the second sentence.\n",
    "# Note that we could get this information just by looking at the [SEP] tokens\n",
    "segment_ids[0]"
   ],
   "outputs": [
    {
     "data": {
      "text/plain": [
       "tensor([0, 0, 0, 0, 1, 1, 1, 1, 1, 0, 0, 0, 0])"
      ]
     },
     "execution_count": 12,
     "metadata": {},
     "output_type": "execute_result"
    }
   ],
   "execution_count": 12
  },
  {
   "cell_type": "code",
   "metadata": {
    "ExecuteTime": {
     "end_time": "2025-05-18T18:42:20.000210Z",
     "start_time": "2025-05-18T18:42:19.989785Z"
    }
   },
   "source": [
    "# Get just the first sentence\n",
    "TOKENIZER.decode(input_ids[0][segment_ids[0] == 0])"
   ],
   "outputs": [
    {
     "data": {
      "text/plain": [
       "'[CLS] hello world [SEP] [PAD] [PAD] [PAD] [PAD]'"
      ]
     },
     "execution_count": 13,
     "metadata": {},
     "output_type": "execute_result"
    }
   ],
   "execution_count": 13
  },
  {
   "cell_type": "code",
   "metadata": {
    "ExecuteTime": {
     "end_time": "2025-05-18T18:42:20.149756Z",
     "start_time": "2025-05-18T18:42:20.133938Z"
    }
   },
   "source": [
    "# Get just the second sentence\n",
    "TOKENIZER.decode(input_ids[0][segment_ids[0] == 1])"
   ],
   "outputs": [
    {
     "data": {
      "text/plain": [
       "'what a nice day [SEP]'"
      ]
     },
     "execution_count": 14,
     "metadata": {},
     "output_type": "execute_result"
    }
   ],
   "execution_count": 14
  },
  {
   "cell_type": "code",
   "metadata": {
    "ExecuteTime": {
     "end_time": "2025-05-18T18:42:20.239210Z",
     "start_time": "2025-05-18T18:42:20.223523Z"
    }
   },
   "source": [
    "# The special tokens mask indicates which tokens are special tokens\n",
    "# Just the special tokens\n",
    "TOKENIZER.decode(input_ids[0][special_tokens_mask[0] == 1])"
   ],
   "outputs": [
    {
     "data": {
      "text/plain": [
       "'[CLS] [SEP] [SEP] [PAD] [PAD] [PAD] [PAD]'"
      ]
     },
     "execution_count": 15,
     "metadata": {},
     "output_type": "execute_result"
    }
   ],
   "execution_count": 15
  },
  {
   "cell_type": "code",
   "metadata": {
    "ExecuteTime": {
     "end_time": "2025-05-18T18:42:20.392815Z",
     "start_time": "2025-05-18T18:42:20.385270Z"
    }
   },
   "source": [
    "# Only the normal tokens\n",
    "TOKENIZER.decode(input_ids[0][special_tokens_mask[0] == 0])"
   ],
   "outputs": [
    {
     "data": {
      "text/plain": [
       "'hello world what a nice day'"
      ]
     },
     "execution_count": 16,
     "metadata": {},
     "output_type": "execute_result"
    }
   ],
   "execution_count": 16
  },
  {
   "cell_type": "markdown",
   "metadata": {},
   "source": [
    "## Loading The Data"
   ]
  },
  {
   "cell_type": "markdown",
   "metadata": {},
   "source": [
    "\n",
    "- Each entry in the IMDb dataset `dataset = load_imdb_dataset()` corresponds to a movie review consisting of a list of sentences. Since they are tokenized, each entry is a list of tensors containing integers.\n",
    "\n",
    "- We can use the `decode` method of the tokenizer to get the original sentences from the tokens.\n",
    "\n",
    "- Performance-related info: For performance reasons, we will use precomputed tokens. This means that we will not use the tokenizer directly, but instead use the precomputed tokens that are stored in the dataset. When you load the dataset for the first time, it will download the dataset and tokenize it. This may take 2-5 minutes. The tokens will be saved in a cache directory, so the next time you load the dataset, it will be faster.\n",
    "\n",
    "- Feel free to look into `utils.py` to see what's actually going on"
   ]
  },
  {
   "cell_type": "code",
   "metadata": {
    "ExecuteTime": {
     "end_time": "2025-05-18T18:43:00.522480Z",
     "start_time": "2025-05-18T18:42:20.477097Z"
    }
   },
   "source": [
    "dataset = load_imdb_dataset()\n",
    "print('Number of training samples corresponding to movie reviews:', len(dataset))\n",
    "print(\"Each data instance (training sample) in the dataset is a list of tokenized sentences with len\", len(dataset[0]))\n",
    "\n",
    "print(\"The tokenized sentences are lists of token ids:\")\n",
    "for c, tokens in enumerate(dataset[0]):\n",
    "    print(c, tokens)\n",
    "    if c == 4:\n",
    "        break\n",
    "\n",
    "print(\"\\n The corresponding decoded text for the same training sample is:\")\n",
    "for c, tokens in enumerate(dataset[0]):\n",
    "    print(c, TOKENIZER.decode(tokens), \"\\n\")\n",
    "    if c == 4:\n",
    "        break"
   ],
   "outputs": [
    {
     "name": "stdout",
     "output_type": "stream",
     "text": [
      "Number of training samples corresponding to movie reviews: 50000\n",
      "Each data instance (training sample) in the dataset is a list of tokenized sentences with len 14\n",
      "The tokenized sentences are lists of token ids:\n",
      "0 tensor([2023, 2003, 2074, 1037, 9062, 2210, 6323], dtype=torch.int16)\n",
      "1 tensor([1996, 2377, 1996, 5896, 2024, 6581], dtype=torch.int16)\n",
      "2 tensor([ 1045,  2064,  2102, 12826,  2023,  3185,  2007,  2505,  2842,  2672,\n",
      "         3272,  1996,  3185,  6506,  6919,  2135,  2209,  2011,  3744, 17738,\n",
      "         1998, 10829,  3417,  2386], dtype=torch.int16)\n",
      "3 tensor([2021, 2054, 2064, 1045, 2360, 2055, 2023, 2028], dtype=torch.int16)\n",
      "4 tensor([ 2023,  2003,  1996,  2190,  3185,  4776, 11968,  9386,  6784,  2038,\n",
      "         2412,  2209,  1999,  2156,  3531, 12784,  2732,  7138,  2016,  1005,\n",
      "         1055,  4092,  2394,  2045,  2000,  2156,  2054,  1045,  2812],\n",
      "       dtype=torch.int16)\n",
      "\n",
      " The corresponding decoded text for the same training sample is:\n",
      "0 this is just a precious little diamond \n",
      "\n",
      "1 the play the script are excellent \n",
      "\n",
      "2 i cant compare this movie with anything else maybe except the movie leon wonderfully played by jean reno and natalie portman \n",
      "\n",
      "3 but what can i say about this one \n",
      "\n",
      "4 this is the best movie anne parillaud has ever played in see please frankie starlight she ' s speaking english there to see what i mean \n",
      "\n"
     ]
    }
   ],
   "execution_count": 17
  },
  {
   "cell_type": "markdown",
   "metadata": {},
   "source": [
    "The text only contains lower case letters and most punctuation has been removed. \n",
    "\n",
    "This helps because you will use a relatively small model and a small dataset.\n",
    "\n",
    "Since we use precomputed tokens, we cannot use the tokenizer to add special tokens. Instead, we will use the `add_special_tokens` function from the `utils` module.\n",
    "This function takes two tokenized sentences, adds the special tokens and concatenates them.\n",
    "It returns a dictionary with the keys:\n",
    "- `input_ids` and `segment_ids` like in the previous section.\n",
    "- The key `normal_mask` is the inverse of the `special_tokens_mask` from the previous section. It indicates which tokens are not special tokens and should only have three `True` entries: `[CLS]` at the beginning, `[SEP]` between the sentences and `[SEP]` at the end.\n",
    "\n",
    "Again, we can use the `decode` method of the tokenizer to get the original text from the tokens."
   ]
  },
  {
   "cell_type": "code",
   "metadata": {
    "ExecuteTime": {
     "end_time": "2025-05-18T18:43:00.616274Z",
     "start_time": "2025-05-18T18:43:00.583889Z"
    }
   },
   "source": [
    "from utils import add_special_tokens\n",
    "\n",
    "out = add_special_tokens(dataset[0][0], dataset[5][6])\n",
    "print(out)\n",
    "print(TOKENIZER.decode(out['input_ids']))"
   ],
   "outputs": [
    {
     "name": "stdout",
     "output_type": "stream",
     "text": [
      "{'input_ids': tensor([  101,  2023,  2003,  2074,  1037,  9062,  2210,  6323,   102,  2200,\n",
      "         2779,  5095,  2258,  2654,  2889,  1011, 28352, 11761,  5988,   102]), 'normal_mask': tensor([False,  True,  True,  True,  True,  True,  True,  True, False,  True,\n",
      "         True,  True,  True,  True,  True,  True,  True,  True,  True, False]), 'segment_ids': tensor([0, 0, 0, 0, 0, 0, 0, 0, 0, 1, 1, 1, 1, 1, 1, 1, 1, 1, 1, 1])}\n",
      "[CLS] this is just a precious little diamond [SEP] very average saturday april 28 1991 - balwyn cinema [SEP]\n"
     ]
    }
   ],
   "execution_count": 18
  },
  {
   "cell_type": "markdown",
   "metadata": {},
   "source": [
    "Finally, all sequences will be limited by the hyper-parameter `MAX_SEQ_LEN` (again, for performance reasons)."
   ]
  },
  {
   "cell_type": "code",
   "metadata": {
    "ExecuteTime": {
     "end_time": "2025-05-18T18:43:00.727790Z",
     "start_time": "2025-05-18T18:43:00.717773Z"
    }
   },
   "source": [
    "from utils import MAX_SEQ_LEN\n",
    "\n",
    "print(f\"Maximum sequence length: {MAX_SEQ_LEN}\")"
   ],
   "outputs": [
    {
     "name": "stdout",
     "output_type": "stream",
     "text": [
      "Maximum sequence length: 256\n"
     ]
    }
   ],
   "execution_count": 19
  },
  {
   "cell_type": "markdown",
   "metadata": {},
   "source": [
    "# Part III: The pair dataset\n",
    "\n",
    "One of the pretext tasks in BERT is to train on next sentence prediction: whether 2 sentences come from the same text.\n",
    "\n",
    "For this we need a dataset that contains pairs of sentences, some of which are consecutive sentences from the same text and some of which are random sentences from different texts.\n",
    "\n",
    "### Task 1 - Implement the `IMDbPairDataset` class. \n",
    "\n",
    "Each item in this dataset are a random pair of tokenized sentences from the IMDb dataset. Because this dataset return random pairs, we will not use a standard `torch.utils.data.DataSet` class, but the subclass `torch.utils.data.IterableDataset` ([documentation](https://pytorch.org/docs/stable/data.html#torch.utils.data.IterableDataset)).\n",
    "\n",
    "We also want to make sure that the sentences are not too short or too long. The `min_len` and `max_len` arguments specify the minimal and maximal length of the combined sentences.\n",
    "You can just sample inside a loop until you find a pair of sentences that satisfies the length constraints.\n",
    "If you want, try to find a more efficient way to do this.\n",
    "\n",
    "Recall, that each entry in the IMDb dataset is a list of tokenized sentences. Therefore, each sentence is described by a *pair* of indices: the index of the text (movie review) and the index of the sentence inside the text.\n",
    "\n",
    "Please read the method docstrings that give you further instructions.\n",
    "\n",
    "For sampling, we used `np.random.randint()` so you need to sample with the same function to get our expected result."
   ]
  },
  {
   "cell_type": "code",
   "metadata": {
    "ExecuteTime": {
     "end_time": "2025-05-18T18:44:37.698461Z",
     "start_time": "2025-05-18T18:43:00.832353Z"
    }
   },
   "source": [
    "class IMDbPairDataset(torch.utils.data.IterableDataset):\n",
    "\n",
    "    def __init__(self, min_len=0, max_len=MAX_SEQ_LEN, p_next=0.5, train=True):\n",
    "        \"\"\"\n",
    "        Args:\n",
    "            min_len: minimal length of both combined sentences\n",
    "            max_len: maximal length of both combined sentences\n",
    "            p_next: probability that the second sentence is the next sentence in the text\n",
    "            train: whether to use the train or test dataset\n",
    "        \"\"\"\n",
    "        self.max_len = max_len\n",
    "        self.min_len = min_len\n",
    "        self.dataset = load_imdb_dataset(train)\n",
    "        self.p_next = p_next\n",
    "\n",
    "    def random_idx(self, not_last=False):\n",
    "        text_idx = np.random.randint(len(self.dataset))\n",
    "        text = self.dataset[text_idx]\n",
    "        sent_idx = np.random.randint(max(1, len(text) - not_last))\n",
    "\n",
    "        return text_idx, text, sent_idx\n",
    "\n",
    "    def sample_next_idx(self):\n",
    "        \"\"\"\n",
    "        Sample two pair of indices corresponding to two consecutive sentences from the dataset, i.e.,\n",
    "        the second sentence is the next sentence in the same text as the first sentence.\n",
    "        Note, that some texts only have one sentence. In this case, you should sample again.\n",
    "\n",
    "        Returns:\n",
    "            two tuples of the form (text_idx, sent_idx), (text_idx, sent_idx + 1)\n",
    "        \"\"\"\n",
    "        ### START CODE HERE ### (≈ 5 lines of code)\n",
    "        text_idx, text, sent_idx = self.random_idx(not_last=True)\n",
    "        if len(text) < 2: return self.sample_next_idx()\n",
    "        ### END CODE HERE ###\n",
    "        return (text_idx, sent_idx), (text_idx, sent_idx + 1)\n",
    "\n",
    "    def sample_random_idx(self):\n",
    "        \"\"\"\n",
    "        Sample two pair of indices corresponding to two random sentences from the dataset.\n",
    "\n",
    "        Returns:\n",
    "            two tuples of the form (text_idx_a, sent_idx_a), (text_idx_b, sent_idx_b)\n",
    "        \"\"\"\n",
    "        ### START CODE HERE ### (≈ 6 lines of code)\n",
    "        text_idx_a, _, sent_idx_a = self.random_idx()\n",
    "        text_idx_b, _, sent_idx_b = self.random_idx()\n",
    "        ### END CODE HERE ###\n",
    "        return (text_idx_a, sent_idx_a), (text_idx_b, sent_idx_b)\n",
    "\n",
    "    def sample_tokens(self, is_next):\n",
    "        \"\"\"\n",
    "        Samples a pair of sentences from the dataset by first sampling indices and then using the `add_special_tokens` function.\n",
    "        Args:\n",
    "            is_next: if True, the second sentence is the next sentence in the same movie review.\n",
    "                     if False, the second sentence is a random sentence from a random movie review.\n",
    "\n",
    "        Returns:\n",
    "            A dictionary with the keys 'input_ids', 'segment_ids' and 'normal_mask'.\n",
    "            The values are tensors of the same length without length restriction.\n",
    "\n",
    "        \"\"\"\n",
    "        if is_next:\n",
    "            (text_idx_a, sent_idx_a), (text_idx_b, sent_idx_b) = self.sample_next_idx()\n",
    "        else:\n",
    "            (text_idx_a, sent_idx_a), (text_idx_b, sent_idx_b) = self.sample_random_idx()\n",
    "        tokens_a = self.dataset[text_idx_a][sent_idx_a]\n",
    "        tokens_b = self.dataset[text_idx_b][sent_idx_b]\n",
    "        return add_special_tokens(tokens_a, tokens_b)\n",
    "\n",
    "    def sample(self):\n",
    "        \"\"\"\n",
    "        Samples a random pair of sentences from the dataset.\n",
    "        With probability p_next, the second sentence is the next sentence in the same movie review.\n",
    "        With probability 1 - p_next, the second sentence is a random sentence from a random movie review.\n",
    "\n",
    "        Returns:\n",
    "            A dictionary with the keys 'input_ids', 'segment_ids', 'normal_mask'\n",
    "            and 'is_next' (boolean, indicates whether the second sentence is the next sentence in the same movie review).\n",
    "            The values are tensors of the same length, but at least min_len and at most max_len.\n",
    "        \"\"\"\n",
    "        is_next = np.random.rand() < self.p_next\n",
    "        out = self.sample_tokens(is_next)\n",
    "        while not (self.min_len <= len(out['input_ids']) <= self.max_len):\n",
    "            out = self.sample_tokens(is_next)\n",
    "        out.update(is_next=is_next)\n",
    "        return out\n",
    "\n",
    "    def __iter__(self):\n",
    "        while True:\n",
    "            yield self.sample()\n",
    "\n",
    "\n",
    "def test_IMDbPairDataset():\n",
    "    np.random.seed(999)\n",
    "    torch.manual_seed(999)\n",
    "    dataset = IMDbPairDataset()\n",
    "    for sample in dataset:\n",
    "        print(\"Each training sample contains the following keys:\", list(sample.keys()), \"\\n\")\n",
    "        print(\"Is next:\", sample['is_next'])\n",
    "        print(TOKENIZER.decode(sample['input_ids']))\n",
    "        break\n",
    "\n",
    "\n",
    "test_IMDbPairDataset()"
   ],
   "outputs": [
    {
     "name": "stdout",
     "output_type": "stream",
     "text": [
      "Each training sample contains the following keys: ['input_ids', 'normal_mask', 'segment_ids', 'is_next'] \n",
      "\n",
      "Is next: False\n",
      "[CLS] actually i ' d like to see a celebrity death match with rambo and braddock though it wouldn ' t be much of a fight and then there ' s good old chuck norris who for some reason a few people find entertaining but honestly the greatest entertainment he gives me is the chuck norris facts this film is pretty easy to laugh at though but i don ' t think it was meant to be funny [SEP] nick nolte and others involved with the movie vowed never to work with eddie murphy again [SEP]\n"
     ]
    }
   ],
   "execution_count": 20
  },
  {
   "cell_type": "markdown",
   "metadata": {},
   "source": [
    "### Expected result\n",
    "\n",
    "Note: You might get a different result based on your implementation of the random samling.\n",
    "\n",
    "```\n",
    "Each training sample contains the following keys: ['input_ids', 'normal_mask', 'segment_ids', 'is_next'] \n",
    "\n",
    "Is next: False\n",
    "\n",
    "[CLS] actually i'd like to see a celebrity death match with rambo and braddock though it wouldn't be much of a fight and then there's good old chuck norris who for some reason a few people find entertaining but honestly the greatest entertainment he gives me is the chuck norris facts this film is pretty easy to laugh at though but i don't think it was meant to be funny [SEP] nick nolte and others involved with the movie vowed never to work with eddie murphy again [SEP]\n",
    "```\n"
   ]
  },
  {
   "cell_type": "markdown",
   "metadata": {},
   "source": [
    "### Making a dataloader\n",
    "\n",
    "Let's try putting our dataset into a PyTorch dataloader and loading a batch"
   ]
  },
  {
   "cell_type": "code",
   "metadata": {
    "editable": true,
    "slideshow": {
     "slide_type": ""
    },
    "tags": [
     "raises-exception"
    ],
    "ExecuteTime": {
     "end_time": "2025-05-18T18:44:38.479439Z",
     "start_time": "2025-05-18T18:44:37.780978Z"
    }
   },
   "source": [
    "dataset = IMDbPairDataset()\n",
    "loader = DataLoader(dataset, batch_size=128)\n",
    "batch = next(iter(loader))"
   ],
   "outputs": [
    {
     "ename": "RuntimeError",
     "evalue": "stack expects each tensor to be equal size, but got [25] at entry 0 and [163] at entry 1",
     "output_type": "error",
     "traceback": [
      "\u001B[31m---------------------------------------------------------------------------\u001B[39m",
      "\u001B[31mRuntimeError\u001B[39m                              Traceback (most recent call last)",
      "\u001B[36mCell\u001B[39m\u001B[36m \u001B[39m\u001B[32mIn[21]\u001B[39m\u001B[32m, line 3\u001B[39m\n\u001B[32m      1\u001B[39m dataset = IMDbPairDataset()\n\u001B[32m      2\u001B[39m loader = DataLoader(dataset, batch_size=\u001B[32m128\u001B[39m)\n\u001B[32m----> \u001B[39m\u001B[32m3\u001B[39m batch = \u001B[38;5;28;43mnext\u001B[39;49m\u001B[43m(\u001B[49m\u001B[38;5;28;43miter\u001B[39;49m\u001B[43m(\u001B[49m\u001B[43mloader\u001B[49m\u001B[43m)\u001B[49m\u001B[43m)\u001B[49m\n",
      "\u001B[36mFile \u001B[39m\u001B[32m/opt/homebrew/anaconda3/envs/representation-learning/lib/python3.13/site-packages/torch/utils/data/dataloader.py:708\u001B[39m, in \u001B[36m_BaseDataLoaderIter.__next__\u001B[39m\u001B[34m(self)\u001B[39m\n\u001B[32m    705\u001B[39m \u001B[38;5;28;01mif\u001B[39;00m \u001B[38;5;28mself\u001B[39m._sampler_iter \u001B[38;5;129;01mis\u001B[39;00m \u001B[38;5;28;01mNone\u001B[39;00m:\n\u001B[32m    706\u001B[39m     \u001B[38;5;66;03m# TODO(https://github.com/pytorch/pytorch/issues/76750)\u001B[39;00m\n\u001B[32m    707\u001B[39m     \u001B[38;5;28mself\u001B[39m._reset()  \u001B[38;5;66;03m# type: ignore[call-arg]\u001B[39;00m\n\u001B[32m--> \u001B[39m\u001B[32m708\u001B[39m data = \u001B[38;5;28;43mself\u001B[39;49m\u001B[43m.\u001B[49m\u001B[43m_next_data\u001B[49m\u001B[43m(\u001B[49m\u001B[43m)\u001B[49m\n\u001B[32m    709\u001B[39m \u001B[38;5;28mself\u001B[39m._num_yielded += \u001B[32m1\u001B[39m\n\u001B[32m    710\u001B[39m \u001B[38;5;28;01mif\u001B[39;00m (\n\u001B[32m    711\u001B[39m     \u001B[38;5;28mself\u001B[39m._dataset_kind == _DatasetKind.Iterable\n\u001B[32m    712\u001B[39m     \u001B[38;5;129;01mand\u001B[39;00m \u001B[38;5;28mself\u001B[39m._IterableDataset_len_called \u001B[38;5;129;01mis\u001B[39;00m \u001B[38;5;129;01mnot\u001B[39;00m \u001B[38;5;28;01mNone\u001B[39;00m\n\u001B[32m    713\u001B[39m     \u001B[38;5;129;01mand\u001B[39;00m \u001B[38;5;28mself\u001B[39m._num_yielded > \u001B[38;5;28mself\u001B[39m._IterableDataset_len_called\n\u001B[32m    714\u001B[39m ):\n",
      "\u001B[36mFile \u001B[39m\u001B[32m/opt/homebrew/anaconda3/envs/representation-learning/lib/python3.13/site-packages/torch/utils/data/dataloader.py:764\u001B[39m, in \u001B[36m_SingleProcessDataLoaderIter._next_data\u001B[39m\u001B[34m(self)\u001B[39m\n\u001B[32m    762\u001B[39m \u001B[38;5;28;01mdef\u001B[39;00m\u001B[38;5;250m \u001B[39m\u001B[34m_next_data\u001B[39m(\u001B[38;5;28mself\u001B[39m):\n\u001B[32m    763\u001B[39m     index = \u001B[38;5;28mself\u001B[39m._next_index()  \u001B[38;5;66;03m# may raise StopIteration\u001B[39;00m\n\u001B[32m--> \u001B[39m\u001B[32m764\u001B[39m     data = \u001B[38;5;28;43mself\u001B[39;49m\u001B[43m.\u001B[49m\u001B[43m_dataset_fetcher\u001B[49m\u001B[43m.\u001B[49m\u001B[43mfetch\u001B[49m\u001B[43m(\u001B[49m\u001B[43mindex\u001B[49m\u001B[43m)\u001B[49m  \u001B[38;5;66;03m# may raise StopIteration\u001B[39;00m\n\u001B[32m    765\u001B[39m     \u001B[38;5;28;01mif\u001B[39;00m \u001B[38;5;28mself\u001B[39m._pin_memory:\n\u001B[32m    766\u001B[39m         data = _utils.pin_memory.pin_memory(data, \u001B[38;5;28mself\u001B[39m._pin_memory_device)\n",
      "\u001B[36mFile \u001B[39m\u001B[32m/opt/homebrew/anaconda3/envs/representation-learning/lib/python3.13/site-packages/torch/utils/data/_utils/fetch.py:43\u001B[39m, in \u001B[36m_IterableDatasetFetcher.fetch\u001B[39m\u001B[34m(self, possibly_batched_index)\u001B[39m\n\u001B[32m     41\u001B[39m \u001B[38;5;28;01melse\u001B[39;00m:\n\u001B[32m     42\u001B[39m     data = \u001B[38;5;28mnext\u001B[39m(\u001B[38;5;28mself\u001B[39m.dataset_iter)\n\u001B[32m---> \u001B[39m\u001B[32m43\u001B[39m \u001B[38;5;28;01mreturn\u001B[39;00m \u001B[38;5;28;43mself\u001B[39;49m\u001B[43m.\u001B[49m\u001B[43mcollate_fn\u001B[49m\u001B[43m(\u001B[49m\u001B[43mdata\u001B[49m\u001B[43m)\u001B[49m\n",
      "\u001B[36mFile \u001B[39m\u001B[32m/opt/homebrew/anaconda3/envs/representation-learning/lib/python3.13/site-packages/torch/utils/data/_utils/collate.py:398\u001B[39m, in \u001B[36mdefault_collate\u001B[39m\u001B[34m(batch)\u001B[39m\n\u001B[32m    337\u001B[39m \u001B[38;5;28;01mdef\u001B[39;00m\u001B[38;5;250m \u001B[39m\u001B[34mdefault_collate\u001B[39m(batch):\n\u001B[32m    338\u001B[39m \u001B[38;5;250m    \u001B[39m\u001B[33mr\u001B[39m\u001B[33;03m\"\"\"\u001B[39;00m\n\u001B[32m    339\u001B[39m \u001B[33;03m    Take in a batch of data and put the elements within the batch into a tensor with an additional outer dimension - batch size.\u001B[39;00m\n\u001B[32m    340\u001B[39m \n\u001B[32m   (...)\u001B[39m\u001B[32m    396\u001B[39m \u001B[33;03m        >>> default_collate(batch)  # Handle `CustomType` automatically\u001B[39;00m\n\u001B[32m    397\u001B[39m \u001B[33;03m    \"\"\"\u001B[39;00m\n\u001B[32m--> \u001B[39m\u001B[32m398\u001B[39m     \u001B[38;5;28;01mreturn\u001B[39;00m \u001B[43mcollate\u001B[49m\u001B[43m(\u001B[49m\u001B[43mbatch\u001B[49m\u001B[43m,\u001B[49m\u001B[43m \u001B[49m\u001B[43mcollate_fn_map\u001B[49m\u001B[43m=\u001B[49m\u001B[43mdefault_collate_fn_map\u001B[49m\u001B[43m)\u001B[49m\n",
      "\u001B[36mFile \u001B[39m\u001B[32m/opt/homebrew/anaconda3/envs/representation-learning/lib/python3.13/site-packages/torch/utils/data/_utils/collate.py:172\u001B[39m, in \u001B[36mcollate\u001B[39m\u001B[34m(batch, collate_fn_map)\u001B[39m\n\u001B[32m    165\u001B[39m \u001B[38;5;28;01mif\u001B[39;00m \u001B[38;5;28misinstance\u001B[39m(elem, collections.abc.MutableMapping):\n\u001B[32m    166\u001B[39m     \u001B[38;5;66;03m# The mapping type may have extra properties, so we can't just\u001B[39;00m\n\u001B[32m    167\u001B[39m     \u001B[38;5;66;03m# use `type(data)(...)` to create the new mapping.\u001B[39;00m\n\u001B[32m    168\u001B[39m     \u001B[38;5;66;03m# Create a clone and update it if the mapping type is mutable.\u001B[39;00m\n\u001B[32m    169\u001B[39m     clone = copy.copy(elem)\n\u001B[32m    170\u001B[39m     clone.update(\n\u001B[32m    171\u001B[39m         {\n\u001B[32m--> \u001B[39m\u001B[32m172\u001B[39m             key: \u001B[43mcollate\u001B[49m\u001B[43m(\u001B[49m\n\u001B[32m    173\u001B[39m \u001B[43m                \u001B[49m\u001B[43m[\u001B[49m\u001B[43md\u001B[49m\u001B[43m[\u001B[49m\u001B[43mkey\u001B[49m\u001B[43m]\u001B[49m\u001B[43m \u001B[49m\u001B[38;5;28;43;01mfor\u001B[39;49;00m\u001B[43m \u001B[49m\u001B[43md\u001B[49m\u001B[43m \u001B[49m\u001B[38;5;129;43;01min\u001B[39;49;00m\u001B[43m \u001B[49m\u001B[43mbatch\u001B[49m\u001B[43m]\u001B[49m\u001B[43m,\u001B[49m\u001B[43m \u001B[49m\u001B[43mcollate_fn_map\u001B[49m\u001B[43m=\u001B[49m\u001B[43mcollate_fn_map\u001B[49m\n\u001B[32m    174\u001B[39m \u001B[43m            \u001B[49m\u001B[43m)\u001B[49m\n\u001B[32m    175\u001B[39m             \u001B[38;5;28;01mfor\u001B[39;00m key \u001B[38;5;129;01min\u001B[39;00m elem\n\u001B[32m    176\u001B[39m         }\n\u001B[32m    177\u001B[39m     )\n\u001B[32m    178\u001B[39m     \u001B[38;5;28;01mreturn\u001B[39;00m clone\n\u001B[32m    179\u001B[39m \u001B[38;5;28;01melse\u001B[39;00m:\n",
      "\u001B[36mFile \u001B[39m\u001B[32m/opt/homebrew/anaconda3/envs/representation-learning/lib/python3.13/site-packages/torch/utils/data/_utils/collate.py:155\u001B[39m, in \u001B[36mcollate\u001B[39m\u001B[34m(batch, collate_fn_map)\u001B[39m\n\u001B[32m    153\u001B[39m \u001B[38;5;28;01mif\u001B[39;00m collate_fn_map \u001B[38;5;129;01mis\u001B[39;00m \u001B[38;5;129;01mnot\u001B[39;00m \u001B[38;5;28;01mNone\u001B[39;00m:\n\u001B[32m    154\u001B[39m     \u001B[38;5;28;01mif\u001B[39;00m elem_type \u001B[38;5;129;01min\u001B[39;00m collate_fn_map:\n\u001B[32m--> \u001B[39m\u001B[32m155\u001B[39m         \u001B[38;5;28;01mreturn\u001B[39;00m \u001B[43mcollate_fn_map\u001B[49m\u001B[43m[\u001B[49m\u001B[43melem_type\u001B[49m\u001B[43m]\u001B[49m\u001B[43m(\u001B[49m\u001B[43mbatch\u001B[49m\u001B[43m,\u001B[49m\u001B[43m \u001B[49m\u001B[43mcollate_fn_map\u001B[49m\u001B[43m=\u001B[49m\u001B[43mcollate_fn_map\u001B[49m\u001B[43m)\u001B[49m\n\u001B[32m    157\u001B[39m     \u001B[38;5;28;01mfor\u001B[39;00m collate_type \u001B[38;5;129;01min\u001B[39;00m collate_fn_map:\n\u001B[32m    158\u001B[39m         \u001B[38;5;28;01mif\u001B[39;00m \u001B[38;5;28misinstance\u001B[39m(elem, collate_type):\n",
      "\u001B[36mFile \u001B[39m\u001B[32m/opt/homebrew/anaconda3/envs/representation-learning/lib/python3.13/site-packages/torch/utils/data/_utils/collate.py:272\u001B[39m, in \u001B[36mcollate_tensor_fn\u001B[39m\u001B[34m(batch, collate_fn_map)\u001B[39m\n\u001B[32m    270\u001B[39m     storage = elem._typed_storage()._new_shared(numel, device=elem.device)\n\u001B[32m    271\u001B[39m     out = elem.new(storage).resize_(\u001B[38;5;28mlen\u001B[39m(batch), *\u001B[38;5;28mlist\u001B[39m(elem.size()))\n\u001B[32m--> \u001B[39m\u001B[32m272\u001B[39m \u001B[38;5;28;01mreturn\u001B[39;00m \u001B[43mtorch\u001B[49m\u001B[43m.\u001B[49m\u001B[43mstack\u001B[49m\u001B[43m(\u001B[49m\u001B[43mbatch\u001B[49m\u001B[43m,\u001B[49m\u001B[43m \u001B[49m\u001B[32;43m0\u001B[39;49m\u001B[43m,\u001B[49m\u001B[43m \u001B[49m\u001B[43mout\u001B[49m\u001B[43m=\u001B[49m\u001B[43mout\u001B[49m\u001B[43m)\u001B[49m\n",
      "\u001B[31mRuntimeError\u001B[39m: stack expects each tensor to be equal size, but got [25] at entry 0 and [163] at entry 1"
     ]
    }
   ],
   "execution_count": 21
  },
  {
   "cell_type": "markdown",
   "metadata": {},
   "source": [
    "**Oh no!** That didn't work (most likely). The fault lies in the *collate function*. This function takes a list of items from the dataset and tries to combine them in a sensible way. However, it fails because the items returned by our dataset have different lenghts.\n",
    "\n",
    "We need some custom collate function that adds padding. We already provided that for you in `utils.py`.\n",
    "One way to use it, is to modify the `padded_collate_tensor_fn` dictionary ([This is actually one of the recommended ways to do this](https://github.com/pytorch/pytorch/blob/107f944f226554a52d4028b37b35bcc07b427cc7/torch/utils/data/_utils/collate.py#L310))"
   ]
  },
  {
   "cell_type": "code",
   "metadata": {
    "ExecuteTime": {
     "end_time": "2025-05-18T18:44:56.272777Z",
     "start_time": "2025-05-18T18:44:56.270108Z"
    }
   },
   "source": [
    "from torch.utils.data._utils.collate import default_collate_fn_map\n",
    "from utils import padded_collate_tensor_fn\n",
    "\n",
    "# Modify the collate map. This will change the behavior of the DataLoader!\n",
    "default_collate_fn_map[torch.Tensor] = padded_collate_tensor_fn"
   ],
   "outputs": [],
   "execution_count": 22
  },
  {
   "cell_type": "code",
   "metadata": {
    "ExecuteTime": {
     "end_time": "2025-05-18T18:44:56.320461Z",
     "start_time": "2025-05-18T18:44:56.291089Z"
    }
   },
   "source": [
    "# Now it will work\n",
    "dataset = IMDbPairDataset()\n",
    "loader = DataLoader(dataset, batch_size=128)\n",
    "batch = next(iter(loader))\n",
    "batch"
   ],
   "outputs": [
    {
     "data": {
      "text/plain": [
       "{'input_ids': tensor([[ 101, 2957, 2852,  ...,    0,    0,    0],\n",
       "         [ 101, 1996, 3185,  ...,    0,    0,    0],\n",
       "         [ 101, 2074, 1037,  ...,    0,    0,    0],\n",
       "         ...,\n",
       "         [ 101, 2008, 4066,  ...,    0,    0,    0],\n",
       "         [ 101, 2036, 2122,  ...,    0,    0,    0],\n",
       "         [ 101, 1045, 2064,  ...,    0,    0,    0]]),\n",
       " 'normal_mask': tensor([[False,  True,  True,  ..., False, False, False],\n",
       "         [False,  True,  True,  ..., False, False, False],\n",
       "         [False,  True,  True,  ..., False, False, False],\n",
       "         ...,\n",
       "         [False,  True,  True,  ..., False, False, False],\n",
       "         [False,  True,  True,  ..., False, False, False],\n",
       "         [False,  True,  True,  ..., False, False, False]]),\n",
       " 'segment_ids': tensor([[0, 0, 0,  ..., 0, 0, 0],\n",
       "         [0, 0, 0,  ..., 0, 0, 0],\n",
       "         [0, 0, 0,  ..., 0, 0, 0],\n",
       "         ...,\n",
       "         [0, 0, 0,  ..., 0, 0, 0],\n",
       "         [0, 0, 0,  ..., 0, 0, 0],\n",
       "         [0, 0, 0,  ..., 0, 0, 0]]),\n",
       " 'is_next': tensor([False,  True,  True,  True, False, False,  True, False,  True, False,\n",
       "          True, False, False,  True,  True,  True,  True, False,  True, False,\n",
       "          True,  True, False,  True, False, False,  True,  True, False,  True,\n",
       "         False, False,  True,  True,  True, False, False,  True, False,  True,\n",
       "          True, False, False, False,  True, False,  True, False, False, False,\n",
       "          True, False,  True,  True,  True, False,  True, False, False, False,\n",
       "          True, False,  True,  True,  True,  True, False,  True, False, False,\n",
       "         False, False, False, False, False, False, False,  True,  True,  True,\n",
       "          True,  True, False, False,  True,  True, False, False,  True,  True,\n",
       "          True,  True, False, False,  True, False,  True,  True,  True,  True,\n",
       "          True, False,  True,  True, False,  True, False,  True, False,  True,\n",
       "          True,  True, False, False, False,  True, False,  True, False, False,\n",
       "         False, False,  True,  True,  True,  True, False, False])}"
      ]
     },
     "execution_count": 23,
     "metadata": {},
     "output_type": "execute_result"
    }
   ],
   "execution_count": 23
  },
  {
   "cell_type": "markdown",
   "metadata": {},
   "source": [
    "# Part IV: Masking\n",
    "\n",
    "The other pretext task BERT is trained on is *masked language modeling*, in which some tokens are replaced by a special `[MASK]` token and the model is trained to predict the original token.\n",
    "\n",
    "### Task 2: Implement the `BERTMasker` class, which takes a sequence of tokens and masks some of them.\n",
    "\n",
    "\n",
    "\n",
    "The masking procedure is as follows:\n",
    "First, select the tokens to be randomly masked with probability `p_select`. \n",
    "\n",
    "`Note`: Only consider tokens that are \"normal\", i.e., not special tokens (i.e., not `[CLS]`, `[SEP]` or `[PAD]`). Use the `normal_mask` to achieve this.\n",
    "\n",
    "Second, for each selected masked token there are three possibilities: replace it with a random token (with prob. `p_rand`), mask it by using the token TOKENIZER.mask_token_id (with prob. p_mask), or leave it as is.\n",
    "\n",
    "In summary:\n",
    "- `p_mask`, replace the token with `TOKENIZER.mask_token_id` (The id corresponding to the `[MASK]` token)\n",
    "- `p_rand`, replace the token with a random token from the vocabulary, which is {0,..., `TOKENIZER.vocab_size`-1}\n",
    "- `1 - p_mask - p_rand`, keep the token as is.\n",
    "\n",
    "Implement the  `__call__(self, input_ids, normal_mask)` method that return the modified input tokens, the mask that indicates which tokens are alterted with probability `p_select` and the .\n",
    "\n",
    "\n",
    "`Hints` based on our implementation:\n",
    "\n",
    "Implementation-wise, the class member `self.p_mods = torch.tensor([p_mask, p_rand, 1 - p_mask - p_rand])` has entries in 0,1,2 which decide which option happens for each token. Here is an example:\n",
    "\n",
    "```python\n",
    "self.p_mods = torch.tensor([p_mask, p_rand, 1 - p_mask - p_rand])\n",
    "mod_mask = torch.multinomial(self.p_mods, input_ids.numel(), replacement=True)\n",
    "# mod_mask will have the values of [0,1,2]\n",
    "```\n",
    "You are FREE to implement this however you choose though!"
   ]
  },
  {
   "cell_type": "code",
   "metadata": {
    "ExecuteTime": {
     "end_time": "2025-05-18T19:04:58.352941Z",
     "start_time": "2025-05-18T19:04:58.318229Z"
    }
   },
   "source": [
    "class BERTMasker:\n",
    "    def __init__(self, p_select=0.15, p_mask=0.8, p_rand=0.1):\n",
    "        \"\"\"\n",
    "        Args:\n",
    "            vocab_size: size of the vocabulary (number of tokens)\n",
    "            p_select: probability, that a token is selected for masking\n",
    "            p_mask: probability, that a selected token is replaced by [MASK]\n",
    "            p_rand: probability, that a selected token is replaced by a random token\n",
    "        \"\"\"\n",
    "        assert 0 <= p_select <= 1\n",
    "        assert 0 <= p_mask <= 1\n",
    "        assert 0 <= p_rand <= 1\n",
    "        assert p_mask + p_rand <= 1\n",
    "\n",
    "        self.p_select = p_select\n",
    "        # You can use p_mods together with torch.multinomial\n",
    "        self.p_mods = torch.tensor([p_mask, p_rand, 1 - p_mask - p_rand])\n",
    "\n",
    "    def __call__(self, input_ids, normal_mask):\n",
    "        \"\"\"\n",
    "        Masks the tokens\n",
    "        Args:\n",
    "            input_ids: a batch of sequences of tokens, a tensor of shape (batch_size, seq_len)\n",
    "            normal_mask: a boolean mask indicating which tokens are \"normal\", i.e., not special tokens, shape (batch_size, seq_len)\n",
    "\n",
    "        Returns:\n",
    "            input_ids: the modified input_ids, shape (batch_size, seq_len)\n",
    "            select_mask: a boolean mask indicating which tokens were selected for masking, shape (batch_size, seq_len)\n",
    "            masked_tokens: the original tokens that were selected (no matter wheter they are masked, replaced by random tokens, or not changed),\n",
    "                           shape (num_masked_tokens,), where num_masked_tokens ≈ batch_size * seq_len * p_select\n",
    "\n",
    "        \"\"\"\n",
    "        ### START CODE HERE ### (5 lines of code)\n",
    "        self.p_mods = self.p_mods.to(normal_mask.device)\n",
    "        select_mask = torch.bernoulli(self.p_select * normal_mask).bool()\n",
    "        mod_mask = torch.multinomial(self.p_mods, input_ids.numel(), replacement=True).reshape(input_ids.size())\n",
    "\n",
    "        masked_tokens = input_ids[select_mask].clone()\n",
    "\n",
    "        mtok_mask = select_mask & (mod_mask == 0)\n",
    "        rand_mask = select_mask & (mod_mask == 1)\n",
    "\n",
    "        input_ids[mtok_mask] = TOKENIZER.mask_token_id\n",
    "        input_ids[rand_mask] = torch.randint(TOKENIZER.vocab_size, [torch.sum(rand_mask)], device=input_ids.device)\n",
    "        ### END CODE HERE ###\n",
    "        return input_ids, select_mask, masked_tokens\n",
    "\n",
    "\n",
    "def test_BERTMasker():\n",
    "    np.random.seed(999)\n",
    "    torch.manual_seed(999)\n",
    "    masker = BERTMasker()\n",
    "    input_ids = torch.tensor([[1, 2, 3, 4, 5, 6, 7, 8, 9],\n",
    "                              [1, 2, 3, 4, 5, 6, 7, 8, 9]])\n",
    "    normal_mask = torch.tensor([[False, True, True, True, True, True, True, True, False],\n",
    "                                [False, True, True, True, True, True, True, True, False]])\n",
    "    input_ids, select_mask, masked_tokens = masker(input_ids, normal_mask)\n",
    "    print(\"input_ids:\", input_ids, input_ids.shape)\n",
    "    print(\"select_mask:\", select_mask, select_mask.shape)\n",
    "    print(\"masked_tokens:\", masked_tokens, masked_tokens.shape)\n",
    "\n",
    "\n",
    "test_BERTMasker()"
   ],
   "outputs": [
    {
     "name": "stdout",
     "output_type": "stream",
     "text": [
      "input_ids: tensor([[  1,   2, 103,   4,   5,   6,   7, 103,   9],\n",
      "        [  1, 103,   3,   4,   5,   6, 103,   8,   9]]) torch.Size([2, 9])\n",
      "select_mask: tensor([[False, False,  True, False, False, False, False,  True, False],\n",
      "        [False,  True, False, False, False, False,  True, False, False]]) torch.Size([2, 9])\n",
      "masked_tokens: tensor([3, 8, 2, 7]) torch.Size([4])\n"
     ]
    }
   ],
   "execution_count": 58
  },
  {
   "cell_type": "markdown",
   "metadata": {},
   "source": [
    "### Expected result\n",
    "\n",
    "```\n",
    "input_ids: tensor([[  1,   2, 103,   4,   5,   6,   7, 103,   9],\n",
    "        [  1, 103,   3,   4,   5,   6, 103,   8,   9]]) torch.Size([2, 9])\n",
    "select_mask: tensor([[False, False,  True, False, False, False, False,  True, False],\n",
    "        [False,  True, False, False, False, False,  True, False, False]]) torch.Size([2, 9])\n",
    "masked_tokens: tensor([3, 8, 2, 7]) torch.Size([4])\n",
    "```\n"
   ]
  },
  {
   "cell_type": "markdown",
   "metadata": {},
   "source": [
    "# Part V. The BERT model\n",
    "\n",
    "Now you will implement the BERT model. The model consists of three parts:\n",
    "1. The embedding layer, which turns sequence of token ids into a sequence of embedding vectors.\n",
    "2. The transformer encoder, which is a stack of transformer encoder layers. The output of this model will be the representation used in the downstream tasks.\n",
    "3. The two classification heads, which take the output of the transformer encoder and predict the masked tokens and the next sentence."
   ]
  },
  {
   "cell_type": "markdown",
   "metadata": {},
   "source": [
    "### Task 3: Implement the embedding layer.\n",
    "\n",
    "\n",
    "The embedding is the first layer in BERT that takes the input and creates a lookup table. The parameters of the embedding layers are learnable, which means when the learning process is over the embeddings will cluster similar words together. The embedding layer also preserves different relationships between words such as: semantic, syntactic, linear, and since BERT is bidirectional it will also preserve contextual relationships as well.\n",
    "\n",
    "- In the case of BERT, it creates three embeddings for Token, Segments and Position. Each of them can be implemented using `nn.Embedding`. \n",
    "- `Hint`: the final embedding is the sum of the token, position and segment embeddings and **layer normalization** is applied.\n",
    "- `Hint`: positional embeds may need to be broadcasted to the whole batch: (seq_len,) -> (batch_size, seq_len)"
   ]
  },
  {
   "cell_type": "code",
   "metadata": {
    "ExecuteTime": {
     "end_time": "2025-05-18T19:04:58.433445Z",
     "start_time": "2025-05-18T19:04:58.419189Z"
    }
   },
   "source": [
    "class Embedding(nn.Module):\n",
    "\n",
    "    def __init__(self, vocab_size, d_model, max_len, n_segments=2):\n",
    "        \"\"\"\n",
    "        Args:\n",
    "            vocab_size: total number of tokens, used for the token embedding\n",
    "            d_model: embedding dimension, used for all three embeddings\n",
    "            max_len: maximum length of a sequence, used for the position embedding\n",
    "            n_segments: number of segments (for us always 2), used for the segment embedding\n",
    "        \"\"\"\n",
    "        super().__init__()\n",
    "        ### START CODE HERE ### (4 lines of code)\n",
    "        self.token_embedding = nn.Embedding(vocab_size, d_model)\n",
    "        self.position_embedding = nn.Embedding(max_len, d_model)\n",
    "        self.segment_embedding = nn.Embedding(n_segments, d_model)\n",
    "        self.layer_norm = nn.LayerNorm(d_model)\n",
    "        ### END CODE HERE ###\n",
    "\n",
    "    def forward(self, token_ids, segment_ids):\n",
    "        \"\"\"\n",
    "        Creates the combined embedding vectors for the input tokens and segments\n",
    "        Args:\n",
    "            token_ids: tensor of token ids, shape (batch_size, seq_len)\n",
    "            segment_ids: tensor of segment ids, shape (batch_size, seq_len)\n",
    "\n",
    "        Returns:\n",
    "            combined embeddings, shape (batch_size, seq_len, d_model)\n",
    "        \"\"\"\n",
    "        ### START CODE HERE ### (≈ 6 lines of code)\n",
    "        position_ids = torch.arange(token_ids.size(1), device=token_ids.device).unsqueeze(0).expand_as(token_ids)\n",
    "\n",
    "        token_embeds = self.token_embedding(token_ids)\n",
    "        position_embeds = self.position_embedding(position_ids)\n",
    "        segment_embeds = self.segment_embedding(segment_ids)\n",
    "\n",
    "        return self.layer_norm(token_embeds + position_embeds + segment_embeds)\n",
    "        ### END CODE HERE ###\n",
    "\n",
    "\n",
    "def test_Embedding():\n",
    "    np.random.seed(999)\n",
    "    torch.manual_seed(999)\n",
    "    embedding = Embedding(vocab_size=100, d_model=10, max_len=512)\n",
    "    token_ids = torch.randint(100, size=(2, 10))\n",
    "    segment_ids = torch.randint(2, size=(2, 10))\n",
    "    print(embedding(token_ids, segment_ids).mean(), embedding(token_ids, segment_ids).std(), embedding(token_ids, segment_ids).sum())\n",
    "\n",
    "\n",
    "test_Embedding()"
   ],
   "outputs": [
    {
     "name": "stdout",
     "output_type": "stream",
     "text": [
      "tensor(8.9407e-09, grad_fn=<MeanBackward0>) tensor(1.0025, grad_fn=<StdBackward0>) tensor(1.7881e-06, grad_fn=<SumBackward0>)\n"
     ]
    }
   ],
   "execution_count": 59
  },
  {
   "cell_type": "markdown",
   "metadata": {},
   "source": [
    "### Expected result\n",
    "\n",
    "```\n",
    "tensor(-4.7684e-09, grad_fn=<MeanBackward0>) tensor(1.0025, grad_fn=<StdBackward0>) tensor(-9.5367e-07, grad_fn=<SumBackward0>)\n",
    "```"
   ]
  },
  {
   "cell_type": "markdown",
   "metadata": {},
   "source": [
    "### Task 4: Implement the BERT encoder.\n",
    "\n",
    "For the encoder you can use `nn.TransformerEncoder` combined with `nn.TransformerEncoder`.\n",
    "`nn.TransformerEncoderLayer` by default takes input of the shape `(seq_len, batch_size, d_model)`, but we recommend to have the batch size as the first dimension. Do do this, set `batch_first=True` in `nn.TransformerEncoderLayer`.\n",
    "\n",
    "\n",
    "Notes on the Transformer Encoder:\n",
    "- Because we set batch_first=True, the input shape is (batch_size, seq_len, d_model)\n",
    "- Use TOKENIZER.vocab_size and MAX_SEQ_LEN to initialize the embedding layer.\n",
    "\n",
    "Note, that that transformer encoder should get a mask to indicate where padding is (src_key_padding_mask), so that the padding tokens are not used to calculate the attention. We make the segment_ids optional, because some downstream tasks are only one sentence long. However, the embedding still needs the segment_ids, so set them to zeros if they are not passed.\n",
    "\n",
    "Here is an example (pad_mask need to be defined):\n",
    "```python\n",
    "self.encoder(x, src_key_padding_mask=pad_mask)\n",
    "```\n"
   ]
  },
  {
   "cell_type": "code",
   "metadata": {
    "ExecuteTime": {
     "end_time": "2025-05-18T19:04:58.513300Z",
     "start_time": "2025-05-18T19:04:58.487565Z"
    }
   },
   "source": [
    "class BERTEncoder(nn.Module):\n",
    "    def __init__(self, d_model, n_layers, n_heads, dim_feedforward, dropout):\n",
    "        \"\"\"\n",
    "        Initialized both the transformer encoder and the embedding layer.\n",
    "        Args:\n",
    "            d_model: the dimension of the embedding vectors\n",
    "            n_layers: the number of transformer layers\n",
    "            n_heads: the number of heads in the multi-headed attention\n",
    "            dim_feedforward: the dimension of the feedforward network model\n",
    "            dropout: the dropout rate\n",
    "        \"\"\"\n",
    "        super().__init__()\n",
    "        self.d_model = d_model\n",
    "        # self.embedding and encoder_layer need to be defined below\n",
    "        ### START CODE HERE ### (2 lines of code)\n",
    "        self.embedding = Embedding(TOKENIZER.vocab_size, d_model, MAX_SEQ_LEN)\n",
    "        encoder_layer = nn.TransformerEncoderLayer(d_model, n_heads, dim_feedforward, dropout, batch_first=True)\n",
    "        ### END CODE HERE ###\n",
    "        self.encoder = nn.TransformerEncoder(encoder_layer, num_layers=n_layers)\n",
    "\n",
    "    def forward(self, input_ids, segment_ids=None):\n",
    "        \"\"\"\n",
    "        Encodes a batch of sequences by\n",
    "        1. Embedding the tokens\n",
    "        2. Encoding the embedded tokens with the transformer encoder\n",
    "\n",
    "        Args:\n",
    "            input_ids: tensor of shape (batch_size, seq_len)\n",
    "            segment_ids: Optional, tensor of shape (batch_size, seq_len)\n",
    "\n",
    "        Returns:the encoded representation of the input, shape (batch_size, seq_len, d_model)\n",
    "        \"\"\"\n",
    "        ### START CODE HERE ### (4 lines of code)\n",
    "        if segment_ids is None: segment_ids = torch.zeros_like(input_ids)\n",
    "        x = self.embedding(input_ids, segment_ids)\n",
    "        pad_mask = input_ids == TOKENIZER.pad_token_id\n",
    "        ### END CODE HERE ###\n",
    "        return self.encoder(x, src_key_padding_mask=pad_mask)\n",
    "\n",
    "\n",
    "def test_BERTEncoder():\n",
    "    np.random.seed(999)\n",
    "    torch.manual_seed(999)\n",
    "    encoder = BERTEncoder(d_model=10, n_layers=2, n_heads=2, dim_feedforward=20, dropout=0.1)\n",
    "    input_ids = torch.randint(100, size=(2, 10))\n",
    "    out = encoder(input_ids)\n",
    "    print(out.shape, out.mean(), encoder(input_ids).std(), encoder(input_ids).sum())\n",
    "\n",
    "\n",
    "test_BERTEncoder()"
   ],
   "outputs": [
    {
     "name": "stdout",
     "output_type": "stream",
     "text": [
      "torch.Size([2, 10, 10]) tensor(4.7684e-09, grad_fn=<MeanBackward0>) tensor(1.0025, grad_fn=<StdBackward0>) tensor(0., grad_fn=<SumBackward0>)\n"
     ]
    }
   ],
   "execution_count": 60
  },
  {
   "cell_type": "markdown",
   "metadata": {},
   "source": [
    "### Expected result\n",
    "\n",
    "```\n",
    "torch.Size([2, 10, 10]) tensor(1.0729e-08, grad_fn=<MeanBackward0>) tensor(1.0025, grad_fn=<StdBackward0>) tensor(0., grad_fn=<SumBackward0>)\n",
    "```"
   ]
  },
  {
   "cell_type": "markdown",
   "metadata": {},
   "source": [
    "### Task 5: Implement the BERT model (encoder + the 2 task-specific heads)\n",
    "\n",
    "- Combine the encoder with the next sentence prediction and masked language model heads.\n",
    "- Both heads are just linear layers.\n",
    "- The next sentence classifier takes the the representation of the first token (the `[CLS]` token) and outputs a probability for the next sentence being the true next sentence.\n",
    "- The masked language model head takes the representation of all selected tokens and outputs a probability distribution over all tokens."
   ]
  },
  {
   "cell_type": "code",
   "metadata": {
    "ExecuteTime": {
     "end_time": "2025-05-18T19:04:58.590714Z",
     "start_time": "2025-05-18T19:04:58.566657Z"
    }
   },
   "source": [
    "class BERT(nn.Module):\n",
    "    def __init__(self, d_model, n_layers, n_heads, dim_feedforward, dropout):\n",
    "        \"\"\"\n",
    "        Initializes a BERTEncoder, a next sentence prediction head and a masked language model head.\n",
    "        Args:\n",
    "            d_model: the dimension of the embedding vectors\n",
    "            n_layers: the number of transformer layers\n",
    "            n_heads: the number of heads in the multi-headed attention\n",
    "            dim_feedforward: the dimension of the feedforward network model\n",
    "            dropout: the dropout rate\n",
    "        \"\"\"\n",
    "        super().__init__()\n",
    "        ### START CODE HERE ### (≈ 3 lines of code)\n",
    "        self.encoder = BERTEncoder(d_model, n_layers, n_heads, dim_feedforward, dropout)\n",
    "        self.clsf = nn.Linear(d_model, 1)\n",
    "        self.lm = nn.Linear(d_model, TOKENIZER.vocab_size)\n",
    "        ### END CODE HERE ###\n",
    "\n",
    "    def forward(self, input_ids, segment_ids, select_mask):\n",
    "        \"\"\"\n",
    "        Runs the forward pass of the BERT model.\n",
    "        Args:\n",
    "            input_ids: tensor of token ids, shape (batch_size, seq_len)\n",
    "            segment_ids: tensor of segment ids, shape (batch_size, seq_len)\n",
    "            select_mask: mask of tokens to predict, shape (batch_size, seq_len)\n",
    "\n",
    "        Returns:\n",
    "            logits_clsf: logits for next sentence prediction, shape (batch_size,)\n",
    "            logits_lm: logits for masked language model, shape (num_selected_tokens, vocab_size),\n",
    "            where num_selected_tokens ≈ batch_size * seq_len * p_select (see the masking section in the notebook)\n",
    "\n",
    "        \"\"\"\n",
    "        ### START CODE HERE ### (≈ 5 lines of code)\n",
    "        x = self.encoder(input_ids, segment_ids)\n",
    "        mask_x = x[select_mask]\n",
    "\n",
    "        logits_clsf = self.clsf(x[:, 0, :])\n",
    "        logits_lm = self.lm(mask_x)\n",
    "\n",
    "        return logits_clsf, logits_lm\n",
    "        ### END CODE HERE ###\n",
    "\n",
    "\n",
    "def test_BERT():\n",
    "    np.random.seed(999)\n",
    "    torch.manual_seed(999)\n",
    "    model = BERT(d_model=10, n_layers=2, n_heads=2, dim_feedforward=20, dropout=0.1)\n",
    "    input_ids = torch.randint(100, size=(2, 10))\n",
    "    segment_ids = torch.randint(2, size=(2, 10))\n",
    "    select_mask = torch.randint(2, size=(2, 10), dtype=torch.bool)\n",
    "    logits_clsf, logits_lm = model(input_ids, segment_ids, select_mask)\n",
    "    print(logits_clsf.shape, logits_lm.shape, logits_clsf.mean(), logits_lm.mean(), logits_clsf.std(), logits_lm.std(), logits_clsf.sum(), logits_lm.sum())\n",
    "\n",
    "\n",
    "test_BERT()"
   ],
   "outputs": [
    {
     "name": "stdout",
     "output_type": "stream",
     "text": [
      "torch.Size([2, 1]) torch.Size([13, 30522]) tensor(-0.7718, grad_fn=<MeanBackward0>) tensor(-0.0012, grad_fn=<MeanBackward0>) tensor(0.0550, grad_fn=<StdBackward0>) tensor(0.6046, grad_fn=<StdBackward0>) tensor(-1.5437, grad_fn=<SumBackward0>) tensor(-459.8201, grad_fn=<SumBackward0>)\n"
     ]
    }
   ],
   "execution_count": 61
  },
  {
   "cell_type": "markdown",
   "metadata": {},
   "source": [
    "### Expected result\n",
    "```\n",
    "torch.Size([2]) torch.Size([9, 30522]) tensor(-0.6613, grad_fn=<MeanBackward0>) tensor(-0.0010, grad_fn=<MeanBackward0>) tensor(0.4044, grad_fn=<StdBackward0>) tensor(0.5771, grad_fn=<StdBackward0>) tensor(-1.3225, grad_fn=<SumBackward0>) tensor(-287.4517, grad_fn=<SumBackward0>)\n",
    "```"
   ]
  },
  {
   "cell_type": "markdown",
   "metadata": {},
   "source": [
    "# Part VI. Training\n",
    "\n",
    "Implement the training for one batch.\n",
    "The training should consist of the following steps:\n",
    "1. Transfer the batch (dict consisting of `input_ids`, `segment_ids`, `normal_mask`, `is_next`) to the device\n",
    "2. Mask tokens in the batch\n",
    "3. Run the forward pass of the model\n",
    "4. Compute the loss, which is the sum of the cross entropy loss of the next sentence prediction and the masked language model\n",
    "5. Run the backward pass\n",
    "6. Compute the accuracy of the next sentence prediction (`clsf_acc`) and the masked language model (`lm_acc`) for logging"
   ]
  },
  {
   "cell_type": "code",
   "metadata": {
    "ExecuteTime": {
     "end_time": "2025-05-18T19:12:20.528554Z",
     "start_time": "2025-05-18T19:12:20.489061Z"
    }
   },
   "source": [
    "from utils import MovingAverage\n",
    "\n",
    "\n",
    "def train_bert(model, loader, masker, device, num_iterations=20000, warmup_steps=100, log_every=100, lr=1e-4):\n",
    "    model = model.to(device).train()\n",
    "    opt = torch.optim.AdamW(model.parameters(), lr=lr)\n",
    "    scheduler = torch.optim.lr_scheduler.LinearLR(opt, start_factor=1e-3, end_factor=1.0, total_iters=warmup_steps)\n",
    "    loss_avg = MovingAverage()\n",
    "    clsf_acc_avg = MovingAverage()\n",
    "    lm_acc_avg = MovingAverage()\n",
    "    hist = {'loss': [], 'clsf_acc': [], 'lm_acc': [], 'iter': []}\n",
    "    with tqdm(zip(range(num_iterations), loader), total=num_iterations, desc='Iteration') as pbar:\n",
    "        for it, batch in pbar:\n",
    "            opt.zero_grad(set_to_none=True)\n",
    "\n",
    "            ### START CODE HERE ### (≈ 15 lines of code)\n",
    "            input_ids = batch['input_ids'].to(device)\n",
    "            segment_ids = batch['segment_ids'].to(device)\n",
    "            normal_mask = batch['normal_mask'].to(device)\n",
    "            y_clsf = batch['is_next'].float().to(device)\n",
    "\n",
    "            x, select_mask, y_lm = masker(input_ids, normal_mask)\n",
    "            logits_clsf, logits_lm = model(x, segment_ids, select_mask)\n",
    "\n",
    "            logits_clsf = logits_clsf.squeeze()\n",
    "            loss = F.cross_entropy(logits_lm, y_lm) + F.binary_cross_entropy_with_logits(logits_clsf, y_clsf)\n",
    "            loss.backward()\n",
    "\n",
    "            clsf_acc = ((logits_clsf > 0) == y_clsf).float().mean().cpu()\n",
    "            lm_acc = (logits_lm.argmax(dim=-1) == y_lm).float().mean().cpu()\n",
    "            ### END CODE HERE ###\n",
    "            loss_avg.update(loss)\n",
    "            clsf_acc_avg.update(clsf_acc)\n",
    "            lm_acc_avg.update(lm_acc)\n",
    "\n",
    "            pbar.set_postfix(\n",
    "                loss=loss_avg.get(),\n",
    "                clsf_acc=clsf_acc_avg.get(),\n",
    "                lm_acc=lm_acc_avg.get()\n",
    "            )\n",
    "            if it % log_every == 0:\n",
    "                hist['iter'].append(it)\n",
    "                hist['loss'].append(loss_avg.get())\n",
    "                hist['clsf_acc'].append(clsf_acc_avg.get())\n",
    "                hist['lm_acc'].append(lm_acc_avg.get())\n",
    "\n",
    "            opt.step()\n",
    "            scheduler.step()\n",
    "    hist = {k: np.array(v) for k, v in hist.items()}\n",
    "    return hist"
   ],
   "outputs": [],
   "execution_count": 83
  },
  {
   "cell_type": "markdown",
   "metadata": {},
   "source": [
    "# Part VII. Evaluating the model\n",
    "\n",
    "Write the code to validate the model by computing the average `clsf_acc` and `lm_acc` over the validation set.\n",
    "\n",
    "Since both the masker and the dataset are not deterministic, we will just run the model on the validation set for a fixed number of iterations.        "
   ]
  },
  {
   "cell_type": "code",
   "metadata": {
    "ExecuteTime": {
     "end_time": "2025-05-18T19:12:20.626716Z",
     "start_time": "2025-05-18T19:12:20.616713Z"
    }
   },
   "source": [
    "@torch.no_grad()\n",
    "def validate_bert(model, masker, device, num_iterations=1000):\n",
    "    \"\"\"\n",
    "    Returns:\n",
    "        A dictionary with the keys 'clsf_acc' and 'lm_acc' containing the average accuracy\n",
    "        of the next sentence prediction and the masked language model respectively.\n",
    "    \"\"\"\n",
    "    dataset = IMDbPairDataset(train=False)\n",
    "    loader = DataLoader(dataset, batch_size=64, num_workers=4)\n",
    "    model.to(device).eval()\n",
    "    clsf_accs = []\n",
    "    lm_accs = []\n",
    "    for _, batch in tqdm(zip(range(num_iterations), loader), total=num_iterations):\n",
    "        ### START CODE HERE ### (≈ 6 lines of code)\n",
    "        input_ids = batch['input_ids'].to(device)\n",
    "        segment_ids = batch['segment_ids'].to(device)\n",
    "        normal_mask = batch['normal_mask'].to(device)\n",
    "        is_next = batch['is_next'].to(device)\n",
    "\n",
    "        x, select_mask, masked_tokens = masker(input_ids, normal_mask)\n",
    "        logits_clsf, logits_lm = model(x, segment_ids, select_mask)\n",
    "        ### END CODE HERE ###\n",
    "\n",
    "        clsf_accs.append(((logits_clsf > 0) == is_next).float().cpu())\n",
    "        lm_accs.append((logits_lm.argmax(dim=-1) == masked_tokens).float().cpu())\n",
    "\n",
    "    return dict(\n",
    "        clsf_acc=torch.cat(clsf_accs).mean().item() * 100,\n",
    "        lm_acc=torch.cat(lm_accs).mean().item() * 100)"
   ],
   "outputs": [],
   "execution_count": 84
  },
  {
   "cell_type": "markdown",
   "metadata": {},
   "source": [
    "# Part VIII. Conclusion and Bonus reads\n",
    "\n",
    "That's the end of this exercise. If you reached this point, congratulations!\n",
    "\n",
    "- Coding-wise, that's the end of the currect exercise! Below is the rest of the code to study how to train and evaluate BERT.\n",
    "- Please run the rest of the cells if everything works up to know, so that we can see if you got the expected results!\n",
    "\n",
    "#### Hyperparameters to train the model\n",
    "The IMDb dataset contains 500000+ sentences. With a batch size of 64 (sentence pairs) we will therefore need at least need 4000 iterations to train the model for one epoch. We will train for 15000 iterations, which is a bit over 3 epochs.\n",
    "Feel free to train for more iterations or to change other hyperparameters such as the learning rate if you have the time and resources.\n",
    "The following hyperparameters work quite well though.\n",
    "\n",
    "Otherwise, you can try training with a smaller model and a subset of the dataset."
   ]
  },
  {
   "cell_type": "code",
   "metadata": {
    "ExecuteTime": {
     "end_time": "2025-05-18T19:12:20.974356Z",
     "start_time": "2025-05-18T19:12:20.649414Z"
    }
   },
   "source": [
    "# Model hyperparameters\n",
    "model_kwargs = dict(\n",
    "    d_model=512,\n",
    "    n_layers=8,\n",
    "    n_heads=8,\n",
    "    dim_feedforward=1024,\n",
    "    dropout=0.1\n",
    ")\n",
    "bert_model = BERT(**model_kwargs)\n",
    "\n",
    "# Training hyperparameters\n",
    "NUM_ITERATIONS = 15000\n",
    "LR = 2e-4\n",
    "BATCH_SIZE = 64\n",
    "\n",
    "masker = BERTMasker()"
   ],
   "outputs": [],
   "execution_count": 85
  },
  {
   "cell_type": "markdown",
   "metadata": {},
   "source": [
    "Let's plot the training history. You will likely see a drop in the lm_acc but a rise in the clsf_acc when switching to longer sequences. Why do you think this is?"
   ]
  },
  {
   "cell_type": "code",
   "metadata": {
    "jupyter": {
     "is_executing": true
    },
    "ExecuteTime": {
     "start_time": "2025-05-18T19:12:21.031415Z"
    }
   },
   "source": [
    "# For the first 90% of training, we use short sequences\n",
    "loader_short = DataLoader(IMDbPairDataset(max_len=128), batch_size=BATCH_SIZE, num_workers=0)\n",
    "hist1 = train_bert(bert_model, loader_short, masker,\n",
    "                   device=device, num_iterations=int(0.9 * NUM_ITERATIONS), warmup_steps=int(0.09 * NUM_ITERATIONS), log_every=100, lr=LR)"
   ],
   "outputs": [
    {
     "data": {
      "text/plain": [
       "Iteration:   0%|          | 0/13500 [00:00<?, ?it/s]"
      ],
      "application/vnd.jupyter.widget-view+json": {
       "version_major": 2,
       "version_minor": 0,
       "model_id": "72bd8013a6cd4c258c1d4fb38b6bceb9"
      }
     },
     "metadata": {},
     "output_type": "display_data"
    }
   ],
   "execution_count": null
  },
  {
   "cell_type": "code",
   "execution_count": null,
   "metadata": {},
   "outputs": [],
   "source": [
    "# For the last 10% of training, we use longer sequences. This is necessary to train the positional embeddings.\n",
    "# We divide the batch size by 2 to avoid running out of memory and also scale the learning rate by 0.5.\n",
    "loader_long = DataLoader(IMDbPairDataset(min_len=64, max_len=MAX_SEQ_LEN), batch_size=BATCH_SIZE // 2, num_workers=4)\n",
    "hist2 = train_bert(bert_model, loader_long, masker,\n",
    "                   device=device, num_iterations=int(0.1 * NUM_ITERATIONS), warmup_steps=0, log_every=100, lr=LR / 2)\n",
    "\n",
    "torch.save(bert_model.state_dict(), 'BERT.pt')\n",
    "torch.save(hist1, 'BERT_hist1.pt')\n",
    "torch.save(hist2, 'BERT_hist2.pt')\n",
    "\n",
    "# Combine the two training histories\n",
    "hist2['iter'] += hist1['iter'][-1]\n",
    "hist = {k: np.concatenate([v1, v2]) for k, v1, v2 in zip(hist1.keys(), hist1.values(), hist2.values())}\n",
    "plt.figure(figsize=(10, 6))\n",
    "plt.plot(hist['iter'], hist['loss'], label='loss')\n",
    "plt.plot(hist['iter'], hist['clsf_acc'], label='clsf_acc')\n",
    "plt.plot(hist['iter'], hist['lm_acc'], label='lm_acc')\n",
    "plt.legend()"
   ]
  },
  {
   "cell_type": "code",
   "execution_count": null,
   "metadata": {},
   "outputs": [],
   "source": [
    "# The next sentence prediction accuracy (clsf_acc) should be at least 60% and the masked language model accuracy (lm_acc) should be at least 30%. However, you can easily achieve 70% and 40% respectively by training for a longer time.\n",
    "bert_model.load_state_dict(torch.load('BERT.pt'))\n",
    "validate_bert(bert_model, masker, device=device)"
   ]
  },
  {
   "cell_type": "markdown",
   "metadata": {},
   "source": [
    "### Expected results\n",
    "\n",
    "```\n",
    "{'clsf_acc': 63.76405954360962, 'lm_acc': 32.96291530132294}\n",
    "```"
   ]
  },
  {
   "cell_type": "markdown",
   "metadata": {},
   "source": [
    "# Evaluating the model\n",
    "As the downstream task we will use the Stanford Sentiment Treebank (SST-2) dataset. This dataset contains 10,000 sentences with labels 0 (negative) and 1 (positive).\n",
    "\n",
    "`SST2Model` class: This class takes an instance of a `BERTEncoder` and initializes a linear classifier on top of the first token of the output of the encoder (like the next sentece classifier before). Optionally we want to be able to freeze the encoder and only train the classifier.\n",
    "You can achieve this, by setting `param.requires_grad = train_encoder` for each parameter of the encoder or using `torch.no_grad()` when calling the encoder.\n",
    "\n",
    "The dataset class, training and evaluation code is provided in utils.py"
   ]
  },
  {
   "cell_type": "markdown",
   "metadata": {},
   "source": [
    "### Train the model on the SST-2 dataset."
   ]
  },
  {
   "cell_type": "markdown",
   "metadata": {},
   "source": [
    "We can try to train the encoder from scratch on the SST-2 dataset. However, even with more epochs you will have a hard time getting much more than 60% accuracy.\n",
    "\n",
    "When we use the encoder pretrained on IMDb, we can get 70% accuracy in just 3 epochs with linear probing. Note that in the original paper, the authors fine-tune the whole model for the downstream tasks.\n"
   ]
  },
  {
   "cell_type": "code",
   "execution_count": null,
   "metadata": {},
   "outputs": [],
   "source": [
    "from utils import train_sst2, validate_sst2\n",
    "\n",
    "model = BERT(**model_kwargs)\n",
    "sst2_model_scratch = train_sst2(model.encoder, train_encoder=True, device=device, epochs=5, lr=5e-4)\n",
    "val_acc_rand_init = validate_sst2(sst2_model_scratch, device=device)\n",
    "print(\"Val acc from random initialization:\", val_acc_rand_init)\n",
    "\n",
    "model = BERT(**model_kwargs)\n",
    "model.load_state_dict(torch.load('BERT.pt'))\n",
    "sst2_model = train_sst2(model.encoder, train_encoder=False, device=device, epochs=3)\n",
    "\n",
    "# You should get at least 70% accuracy on SST-2.\n",
    "val_acc = validate_sst2(sst2_model, device=device)\n",
    "print(\"Val accuracy:\", val_acc)"
   ]
  },
  {
   "cell_type": "markdown",
   "metadata": {},
   "source": [
    "### Expected result\n",
    "\n",
    "```\n",
    "Val acc from random initialization: 58.830273151397705\n",
    "Val accuracy: 73.050457239151\n",
    "```"
   ]
  }
 ],
 "metadata": {
  "kernelspec": {
   "display_name": "Python 3 (ipykernel)",
   "language": "python",
   "name": "python3"
  },
  "language_info": {
   "codemirror_mode": {
    "name": "ipython",
    "version": 3
   },
   "file_extension": ".py",
   "mimetype": "text/x-python",
   "name": "python",
   "nbconvert_exporter": "python",
   "pygments_lexer": "ipython3",
   "version": "3.13.3"
  },
  "vscode": {
   "interpreter": {
    "hash": "dc5fcf396fe0abd4fa852aee332a0572494dcaf5776820055c87d9b84157f362"
   }
  }
 },
 "nbformat": 4,
 "nbformat_minor": 4
}
